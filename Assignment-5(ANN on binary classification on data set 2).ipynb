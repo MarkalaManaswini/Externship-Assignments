{
 "cells": [
  {
   "cell_type": "code",
   "execution_count": 1,
   "metadata": {},
   "outputs": [],
   "source": [
    "import numpy as np\n",
    "import pandas as pd"
   ]
  },
  {
   "cell_type": "code",
   "execution_count": 2,
   "metadata": {},
   "outputs": [],
   "source": [
    "dataset=pd.read_csv(\"bank.csv\")"
   ]
  },
  {
   "cell_type": "code",
   "execution_count": 3,
   "metadata": {},
   "outputs": [
    {
     "data": {
      "text/html": [
       "<div>\n",
       "<style scoped>\n",
       "    .dataframe tbody tr th:only-of-type {\n",
       "        vertical-align: middle;\n",
       "    }\n",
       "\n",
       "    .dataframe tbody tr th {\n",
       "        vertical-align: top;\n",
       "    }\n",
       "\n",
       "    .dataframe thead th {\n",
       "        text-align: right;\n",
       "    }\n",
       "</style>\n",
       "<table border=\"1\" class=\"dataframe\">\n",
       "  <thead>\n",
       "    <tr style=\"text-align: right;\">\n",
       "      <th></th>\n",
       "      <th>age</th>\n",
       "      <th>job</th>\n",
       "      <th>marital</th>\n",
       "      <th>education</th>\n",
       "      <th>default</th>\n",
       "      <th>balance</th>\n",
       "      <th>housing</th>\n",
       "      <th>loan</th>\n",
       "      <th>contact</th>\n",
       "      <th>day</th>\n",
       "      <th>month</th>\n",
       "      <th>duration</th>\n",
       "      <th>campaign</th>\n",
       "      <th>pdays</th>\n",
       "      <th>previous</th>\n",
       "      <th>poutcome</th>\n",
       "      <th>deposit</th>\n",
       "    </tr>\n",
       "  </thead>\n",
       "  <tbody>\n",
       "    <tr>\n",
       "      <th>0</th>\n",
       "      <td>59</td>\n",
       "      <td>admin.</td>\n",
       "      <td>married</td>\n",
       "      <td>secondary</td>\n",
       "      <td>no</td>\n",
       "      <td>2343</td>\n",
       "      <td>yes</td>\n",
       "      <td>no</td>\n",
       "      <td>unknown</td>\n",
       "      <td>5</td>\n",
       "      <td>may</td>\n",
       "      <td>1042</td>\n",
       "      <td>1</td>\n",
       "      <td>-1</td>\n",
       "      <td>0</td>\n",
       "      <td>unknown</td>\n",
       "      <td>yes</td>\n",
       "    </tr>\n",
       "    <tr>\n",
       "      <th>1</th>\n",
       "      <td>56</td>\n",
       "      <td>admin.</td>\n",
       "      <td>married</td>\n",
       "      <td>secondary</td>\n",
       "      <td>no</td>\n",
       "      <td>45</td>\n",
       "      <td>no</td>\n",
       "      <td>no</td>\n",
       "      <td>unknown</td>\n",
       "      <td>5</td>\n",
       "      <td>may</td>\n",
       "      <td>1467</td>\n",
       "      <td>1</td>\n",
       "      <td>-1</td>\n",
       "      <td>0</td>\n",
       "      <td>unknown</td>\n",
       "      <td>yes</td>\n",
       "    </tr>\n",
       "    <tr>\n",
       "      <th>2</th>\n",
       "      <td>41</td>\n",
       "      <td>technician</td>\n",
       "      <td>married</td>\n",
       "      <td>secondary</td>\n",
       "      <td>no</td>\n",
       "      <td>1270</td>\n",
       "      <td>yes</td>\n",
       "      <td>no</td>\n",
       "      <td>unknown</td>\n",
       "      <td>5</td>\n",
       "      <td>may</td>\n",
       "      <td>1389</td>\n",
       "      <td>1</td>\n",
       "      <td>-1</td>\n",
       "      <td>0</td>\n",
       "      <td>unknown</td>\n",
       "      <td>yes</td>\n",
       "    </tr>\n",
       "    <tr>\n",
       "      <th>3</th>\n",
       "      <td>55</td>\n",
       "      <td>services</td>\n",
       "      <td>married</td>\n",
       "      <td>secondary</td>\n",
       "      <td>no</td>\n",
       "      <td>2476</td>\n",
       "      <td>yes</td>\n",
       "      <td>no</td>\n",
       "      <td>unknown</td>\n",
       "      <td>5</td>\n",
       "      <td>may</td>\n",
       "      <td>579</td>\n",
       "      <td>1</td>\n",
       "      <td>-1</td>\n",
       "      <td>0</td>\n",
       "      <td>unknown</td>\n",
       "      <td>yes</td>\n",
       "    </tr>\n",
       "    <tr>\n",
       "      <th>4</th>\n",
       "      <td>54</td>\n",
       "      <td>admin.</td>\n",
       "      <td>married</td>\n",
       "      <td>tertiary</td>\n",
       "      <td>no</td>\n",
       "      <td>184</td>\n",
       "      <td>no</td>\n",
       "      <td>no</td>\n",
       "      <td>unknown</td>\n",
       "      <td>5</td>\n",
       "      <td>may</td>\n",
       "      <td>673</td>\n",
       "      <td>2</td>\n",
       "      <td>-1</td>\n",
       "      <td>0</td>\n",
       "      <td>unknown</td>\n",
       "      <td>yes</td>\n",
       "    </tr>\n",
       "  </tbody>\n",
       "</table>\n",
       "</div>"
      ],
      "text/plain": [
       "   age         job  marital  education default  balance housing loan  contact  \\\n",
       "0   59      admin.  married  secondary      no     2343     yes   no  unknown   \n",
       "1   56      admin.  married  secondary      no       45      no   no  unknown   \n",
       "2   41  technician  married  secondary      no     1270     yes   no  unknown   \n",
       "3   55    services  married  secondary      no     2476     yes   no  unknown   \n",
       "4   54      admin.  married   tertiary      no      184      no   no  unknown   \n",
       "\n",
       "   day month  duration  campaign  pdays  previous poutcome deposit  \n",
       "0    5   may      1042         1     -1         0  unknown     yes  \n",
       "1    5   may      1467         1     -1         0  unknown     yes  \n",
       "2    5   may      1389         1     -1         0  unknown     yes  \n",
       "3    5   may       579         1     -1         0  unknown     yes  \n",
       "4    5   may       673         2     -1         0  unknown     yes  "
      ]
     },
     "execution_count": 3,
     "metadata": {},
     "output_type": "execute_result"
    }
   ],
   "source": [
    "dataset.head()"
   ]
  },
  {
   "cell_type": "code",
   "execution_count": 4,
   "metadata": {},
   "outputs": [
    {
     "data": {
      "text/plain": [
       "age          False\n",
       "job          False\n",
       "marital      False\n",
       "education    False\n",
       "default      False\n",
       "balance      False\n",
       "housing      False\n",
       "loan         False\n",
       "contact      False\n",
       "day          False\n",
       "month        False\n",
       "duration     False\n",
       "campaign     False\n",
       "pdays        False\n",
       "previous     False\n",
       "poutcome     False\n",
       "deposit      False\n",
       "dtype: bool"
      ]
     },
     "execution_count": 4,
     "metadata": {},
     "output_type": "execute_result"
    }
   ],
   "source": [
    "dataset.isnull().any()"
   ]
  },
  {
   "cell_type": "code",
   "execution_count": 5,
   "metadata": {},
   "outputs": [],
   "source": [
    "x=dataset.iloc[:,0:16].values\n",
    "y=dataset.iloc[:,16:17].values"
   ]
  },
  {
   "cell_type": "code",
   "execution_count": 6,
   "metadata": {},
   "outputs": [],
   "source": [
    "from sklearn.preprocessing import OneHotEncoder\n",
    "from sklearn.compose import ColumnTransformer\n",
    "ct=ColumnTransformer([(\"oh\",OneHotEncoder(),[1,2,3,4,6,7,8,10,15])],remainder=\"passthrough\")\n",
    "x=ct.fit_transform(x)"
   ]
  },
  {
   "cell_type": "code",
   "execution_count": 7,
   "metadata": {},
   "outputs": [
    {
     "name": "stderr",
     "output_type": "stream",
     "text": [
      "C:\\Users\\bolla\\Anaconda3\\lib\\site-packages\\sklearn\\preprocessing\\label.py:235: DataConversionWarning: A column-vector y was passed when a 1d array was expected. Please change the shape of y to (n_samples, ), for example using ravel().\n",
      "  y = column_or_1d(y, warn=True)\n"
     ]
    }
   ],
   "source": [
    "from sklearn.preprocessing import LabelEncoder\n",
    "le=LabelEncoder()\n",
    "y=le.fit_transform(y)"
   ]
  },
  {
   "cell_type": "code",
   "execution_count": 8,
   "metadata": {},
   "outputs": [
    {
     "data": {
      "text/plain": [
       "(11162, 51)"
      ]
     },
     "execution_count": 8,
     "metadata": {},
     "output_type": "execute_result"
    }
   ],
   "source": [
    "x.shape"
   ]
  },
  {
   "cell_type": "code",
   "execution_count": 9,
   "metadata": {},
   "outputs": [
    {
     "data": {
      "text/plain": [
       "(11162,)"
      ]
     },
     "execution_count": 9,
     "metadata": {},
     "output_type": "execute_result"
    }
   ],
   "source": [
    "y.shape"
   ]
  },
  {
   "cell_type": "code",
   "execution_count": 29,
   "metadata": {},
   "outputs": [],
   "source": [
    "from sklearn.model_selection import train_test_split\n",
    "x_train,x_test,y_train,y_test=train_test_split(x,y,test_size=0.2,random_state=100)"
   ]
  },
  {
   "cell_type": "code",
   "execution_count": 30,
   "metadata": {},
   "outputs": [],
   "source": [
    "from sklearn.preprocessing import StandardScaler\n",
    "sc=StandardScaler()\n",
    "x_train=sc.fit_transform(x_train)\n",
    "x_test=sc.fit_transform(x_test)"
   ]
  },
  {
   "cell_type": "code",
   "execution_count": 31,
   "metadata": {},
   "outputs": [],
   "source": [
    "from tensorflow.keras.models import Sequential\n",
    "from tensorflow.keras.layers import Dense"
   ]
  },
  {
   "cell_type": "code",
   "execution_count": 32,
   "metadata": {},
   "outputs": [],
   "source": [
    "cat=Sequential()"
   ]
  },
  {
   "cell_type": "code",
   "execution_count": 33,
   "metadata": {},
   "outputs": [],
   "source": [
    "cat.add(Dense(51,kernel_initializer=\"random_uniform\",activation=\"relu\"))"
   ]
  },
  {
   "cell_type": "code",
   "execution_count": 34,
   "metadata": {},
   "outputs": [],
   "source": [
    "cat.add(Dense(102,kernel_initializer=\"random_uniform\",activation=\"relu\"))"
   ]
  },
  {
   "cell_type": "code",
   "execution_count": 35,
   "metadata": {},
   "outputs": [],
   "source": [
    "cat.add(Dense(1,kernel_initializer=\"random_uniform\",activation=\"sigmoid\"))"
   ]
  },
  {
   "cell_type": "code",
   "execution_count": 36,
   "metadata": {},
   "outputs": [],
   "source": [
    "cat.compile(\"adam\",\"binary_crossentropy\",metrics=[\"accuracy\"])"
   ]
  },
  {
   "cell_type": "code",
   "execution_count": 38,
   "metadata": {},
   "outputs": [
    {
     "name": "stdout",
     "output_type": "stream",
     "text": [
      "Epoch 1/50\n",
      "8929/8929 [==============================] - 1s 65us/sample - loss: 0.2398 - acc: 0.8986\n",
      "Epoch 2/50\n",
      "8929/8929 [==============================] - 1s 58us/sample - loss: 0.2350 - acc: 0.9016\n",
      "Epoch 3/50\n",
      "8929/8929 [==============================] - 1s 77us/sample - loss: 0.2371 - acc: 0.9003\n",
      "Epoch 4/50\n",
      "8929/8929 [==============================] - 1s 70us/sample - loss: 0.2318 - acc: 0.9004\n",
      "Epoch 5/50\n",
      "8929/8929 [==============================] - 1s 63us/sample - loss: 0.2301 - acc: 0.9028\n",
      "Epoch 6/50\n",
      "8929/8929 [==============================] - 1s 66us/sample - loss: 0.2248 - acc: 0.9042\n",
      "Epoch 7/50\n",
      "8929/8929 [==============================] - 1s 62us/sample - loss: 0.2210 - acc: 0.9081\n",
      "Epoch 8/50\n",
      "8929/8929 [==============================] - 1s 64us/sample - loss: 0.2192 - acc: 0.9084\n",
      "Epoch 9/50\n",
      "8929/8929 [==============================] - 1s 63us/sample - loss: 0.2177 - acc: 0.9098\n",
      "Epoch 10/50\n",
      "8929/8929 [==============================] - 1s 64us/sample - loss: 0.2156 - acc: 0.9084\n",
      "Epoch 11/50\n",
      "8929/8929 [==============================] - 1s 65us/sample - loss: 0.2111 - acc: 0.9114\n",
      "Epoch 12/50\n",
      "8929/8929 [==============================] - 1s 67us/sample - loss: 0.2111 - acc: 0.9057\n",
      "Epoch 13/50\n",
      "8929/8929 [==============================] - 1s 65us/sample - loss: 0.2062 - acc: 0.9142\n",
      "Epoch 14/50\n",
      "8929/8929 [==============================] - 1s 60us/sample - loss: 0.2035 - acc: 0.9137\n",
      "Epoch 15/50\n",
      "8929/8929 [==============================] - 1s 64us/sample - loss: 0.2006 - acc: 0.9144\n",
      "Epoch 16/50\n",
      "8929/8929 [==============================] - 1s 59us/sample - loss: 0.2046 - acc: 0.9153\n",
      "Epoch 17/50\n",
      "8929/8929 [==============================] - 1s 62us/sample - loss: 0.2013 - acc: 0.9131\n",
      "Epoch 18/50\n",
      "8929/8929 [==============================] - 1s 59us/sample - loss: 0.1951 - acc: 0.9173\n",
      "Epoch 19/50\n",
      "8929/8929 [==============================] - 1s 62us/sample - loss: 0.1901 - acc: 0.9190\n",
      "Epoch 20/50\n",
      "8929/8929 [==============================] - 1s 61us/sample - loss: 0.1884 - acc: 0.9212\n",
      "Epoch 21/50\n",
      "8929/8929 [==============================] - 1s 63us/sample - loss: 0.1872 - acc: 0.9216\n",
      "Epoch 22/50\n",
      "8929/8929 [==============================] - 1s 61us/sample - loss: 0.1883 - acc: 0.9187\n",
      "Epoch 23/50\n",
      "8929/8929 [==============================] - 1s 63us/sample - loss: 0.1873 - acc: 0.9215\n",
      "Epoch 24/50\n",
      "8929/8929 [==============================] - 1s 68us/sample - loss: 0.1813 - acc: 0.9236\n",
      "Epoch 25/50\n",
      "8929/8929 [==============================] - 1s 63us/sample - loss: 0.1831 - acc: 0.9228\n",
      "Epoch 26/50\n",
      "8929/8929 [==============================] - 1s 70us/sample - loss: 0.1773 - acc: 0.9229\n",
      "Epoch 27/50\n",
      "8929/8929 [==============================] - 1s 64us/sample - loss: 0.1741 - acc: 0.9256\n",
      "Epoch 28/50\n",
      "8929/8929 [==============================] - 1s 64us/sample - loss: 0.1725 - acc: 0.9266\n",
      "Epoch 29/50\n",
      "8929/8929 [==============================] - 1s 64us/sample - loss: 0.1705 - acc: 0.9269\n",
      "Epoch 30/50\n",
      "8929/8929 [==============================] - 1s 60us/sample - loss: 0.1750 - acc: 0.9261\n",
      "Epoch 31/50\n",
      "8929/8929 [==============================] - 1s 62us/sample - loss: 0.1676 - acc: 0.9290\n",
      "Epoch 32/50\n",
      "8929/8929 [==============================] - 1s 58us/sample - loss: 0.1685 - acc: 0.9287\n",
      "Epoch 33/50\n",
      "8929/8929 [==============================] - 1s 62us/sample - loss: 0.1645 - acc: 0.9302\n",
      "Epoch 34/50\n",
      "8929/8929 [==============================] - 1s 61us/sample - loss: 0.1618 - acc: 0.9293\n",
      "Epoch 35/50\n",
      "8929/8929 [==============================] - 1s 62us/sample - loss: 0.1599 - acc: 0.9335\n",
      "Epoch 36/50\n",
      "8929/8929 [==============================] - 1s 60us/sample - loss: 0.1567 - acc: 0.9321\n",
      "Epoch 37/50\n",
      "8929/8929 [==============================] - 1s 62us/sample - loss: 0.1556 - acc: 0.9338\n",
      "Epoch 38/50\n",
      "8929/8929 [==============================] - 1s 60us/sample - loss: 0.1563 - acc: 0.9325\n",
      "Epoch 39/50\n",
      "8929/8929 [==============================] - 1s 67us/sample - loss: 0.1555 - acc: 0.9347\n",
      "Epoch 40/50\n",
      "8929/8929 [==============================] - 1s 64us/sample - loss: 0.1515 - acc: 0.9356\n",
      "Epoch 41/50\n",
      "8929/8929 [==============================] - 1s 62us/sample - loss: 0.1501 - acc: 0.9356\n",
      "Epoch 42/50\n",
      "8929/8929 [==============================] - 1s 66us/sample - loss: 0.1483 - acc: 0.9374\n",
      "Epoch 43/50\n",
      "8929/8929 [==============================] - 1s 59us/sample - loss: 0.1466 - acc: 0.9377\n",
      "Epoch 44/50\n",
      "8929/8929 [==============================] - 1s 62us/sample - loss: 0.1400 - acc: 0.9408\n",
      "Epoch 45/50\n",
      "8929/8929 [==============================] - 1s 62us/sample - loss: 0.1431 - acc: 0.9391\n",
      "Epoch 46/50\n",
      "8929/8929 [==============================] - 1s 67us/sample - loss: 0.1422 - acc: 0.9420\n",
      "Epoch 47/50\n",
      "8929/8929 [==============================] - 1s 62us/sample - loss: 0.1414 - acc: 0.9412\n",
      "Epoch 48/50\n",
      "8929/8929 [==============================] - 1s 64us/sample - loss: 0.1389 - acc: 0.9406\n",
      "Epoch 49/50\n",
      "8929/8929 [==============================] - 1s 66us/sample - loss: 0.1412 - acc: 0.9408\n",
      "Epoch 50/50\n",
      "8929/8929 [==============================] - 1s 95us/sample - loss: 0.1396 - acc: 0.9406\n"
     ]
    },
    {
     "data": {
      "text/plain": [
       "<tensorflow.python.keras.callbacks.History at 0x26f9d6deda0>"
      ]
     },
     "execution_count": 38,
     "metadata": {},
     "output_type": "execute_result"
    }
   ],
   "source": [
    "cat.fit(x_train,y_train,batch_size=50,epochs=50)"
   ]
  },
  {
   "cell_type": "code",
   "execution_count": 39,
   "metadata": {},
   "outputs": [
    {
     "data": {
      "text/plain": [
       "(8929,)"
      ]
     },
     "execution_count": 39,
     "metadata": {},
     "output_type": "execute_result"
    }
   ],
   "source": [
    "y_train.shape"
   ]
  },
  {
   "cell_type": "code",
   "execution_count": 40,
   "metadata": {},
   "outputs": [],
   "source": [
    "ypred=cat.predict(x_test)"
   ]
  },
  {
   "cell_type": "code",
   "execution_count": 41,
   "metadata": {},
   "outputs": [
    {
     "data": {
      "text/plain": [
       "array([[0.31713057],\n",
       "       [0.        ],\n",
       "       [0.0020653 ],\n",
       "       ...,\n",
       "       [0.99950993],\n",
       "       [0.9973104 ],\n",
       "       [0.99678206]], dtype=float32)"
      ]
     },
     "execution_count": 41,
     "metadata": {},
     "output_type": "execute_result"
    }
   ],
   "source": [
    "ypred"
   ]
  },
  {
   "cell_type": "code",
   "execution_count": 42,
   "metadata": {},
   "outputs": [
    {
     "data": {
      "text/html": [
       "<div>\n",
       "<style scoped>\n",
       "    .dataframe tbody tr th:only-of-type {\n",
       "        vertical-align: middle;\n",
       "    }\n",
       "\n",
       "    .dataframe tbody tr th {\n",
       "        vertical-align: top;\n",
       "    }\n",
       "\n",
       "    .dataframe thead th {\n",
       "        text-align: right;\n",
       "    }\n",
       "</style>\n",
       "<table border=\"1\" class=\"dataframe\">\n",
       "  <thead>\n",
       "    <tr style=\"text-align: right;\">\n",
       "      <th></th>\n",
       "      <th>age</th>\n",
       "      <th>job</th>\n",
       "      <th>marital</th>\n",
       "      <th>education</th>\n",
       "      <th>default</th>\n",
       "      <th>balance</th>\n",
       "      <th>housing</th>\n",
       "      <th>loan</th>\n",
       "      <th>contact</th>\n",
       "      <th>day</th>\n",
       "      <th>month</th>\n",
       "      <th>duration</th>\n",
       "      <th>campaign</th>\n",
       "      <th>pdays</th>\n",
       "      <th>previous</th>\n",
       "      <th>poutcome</th>\n",
       "      <th>deposit</th>\n",
       "    </tr>\n",
       "  </thead>\n",
       "  <tbody>\n",
       "    <tr>\n",
       "      <th>0</th>\n",
       "      <td>59</td>\n",
       "      <td>admin.</td>\n",
       "      <td>married</td>\n",
       "      <td>secondary</td>\n",
       "      <td>no</td>\n",
       "      <td>2343</td>\n",
       "      <td>yes</td>\n",
       "      <td>no</td>\n",
       "      <td>unknown</td>\n",
       "      <td>5</td>\n",
       "      <td>may</td>\n",
       "      <td>1042</td>\n",
       "      <td>1</td>\n",
       "      <td>-1</td>\n",
       "      <td>0</td>\n",
       "      <td>unknown</td>\n",
       "      <td>yes</td>\n",
       "    </tr>\n",
       "  </tbody>\n",
       "</table>\n",
       "</div>"
      ],
      "text/plain": [
       "   age     job  marital  education default  balance housing loan  contact  \\\n",
       "0   59  admin.  married  secondary      no     2343     yes   no  unknown   \n",
       "\n",
       "   day month  duration  campaign  pdays  previous poutcome deposit  \n",
       "0    5   may      1042         1     -1         0  unknown     yes  "
      ]
     },
     "execution_count": 42,
     "metadata": {},
     "output_type": "execute_result"
    }
   ],
   "source": [
    "dataset.head(1)"
   ]
  },
  {
   "cell_type": "code",
   "execution_count": 46,
   "metadata": {},
   "outputs": [
    {
     "data": {
      "text/plain": [
       "array([[2.4379892e-06]], dtype=float32)"
      ]
     },
     "execution_count": 46,
     "metadata": {},
     "output_type": "execute_result"
    }
   ],
   "source": [
    "cat.predict(sc.transform(ct.transform([[43,\"admin.\",\"married\",\"secondary\",\"no\",2300,\"yes\",\"no\",\"unknown\",4,\"may\",100,1,-1,0,\"unknown\"]])))"
   ]
  },
  {
   "cell_type": "code",
   "execution_count": 47,
   "metadata": {},
   "outputs": [
    {
     "data": {
      "text/plain": [
       "array([[0]])"
      ]
     },
     "execution_count": 47,
     "metadata": {},
     "output_type": "execute_result"
    }
   ],
   "source": [
    "cat.predict_classes(sc.transform(ct.transform([[43,\"admin.\",\"married\",\"secondary\",\"no\",2300,\"yes\",\"no\",\"unknown\",4,\"may\",100,1,-1,0,\"unknown\"]])))"
   ]
  },
  {
   "cell_type": "code",
   "execution_count": null,
   "metadata": {},
   "outputs": [],
   "source": []
  }
 ],
 "metadata": {
  "kernelspec": {
   "display_name": "Python 3",
   "language": "python",
   "name": "python3"
  },
  "language_info": {
   "codemirror_mode": {
    "name": "ipython",
    "version": 3
   },
   "file_extension": ".py",
   "mimetype": "text/x-python",
   "name": "python",
   "nbconvert_exporter": "python",
   "pygments_lexer": "ipython3",
   "version": "3.7.3"
  }
 },
 "nbformat": 4,
 "nbformat_minor": 2
}
