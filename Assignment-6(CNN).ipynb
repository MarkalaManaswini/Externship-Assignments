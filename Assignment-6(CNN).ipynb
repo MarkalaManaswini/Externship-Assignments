{
 "cells": [
  {
   "cell_type": "code",
   "execution_count": 1,
   "metadata": {},
   "outputs": [],
   "source": [
    "from tensorflow.keras.models import Sequential\n",
    "from tensorflow.keras.layers import Dense\n",
    "from tensorflow.keras.layers import Convolution2D\n",
    "from tensorflow.keras.layers import MaxPooling2D\n",
    "from tensorflow.keras.layers import Flatten"
   ]
  },
  {
   "cell_type": "code",
   "execution_count": 2,
   "metadata": {},
   "outputs": [
    {
     "name": "stderr",
     "output_type": "stream",
     "text": [
      "Using TensorFlow backend.\n"
     ]
    }
   ],
   "source": [
    "from keras.preprocessing.image import ImageDataGenerator \n",
    "train_datagen=ImageDataGenerator(rescale=1./255,shear_range=0.2,zoom_range=0.2,horizontal_flip=True)\n",
    "test_datagen=ImageDataGenerator(rescale=1./255)"
   ]
  },
  {
   "cell_type": "code",
   "execution_count": 3,
   "metadata": {},
   "outputs": [
    {
     "name": "stdout",
     "output_type": "stream",
     "text": [
      "Found 105 images belonging to 5 classes.\n",
      "Found 45 images belonging to 5 classes.\n"
     ]
    }
   ],
   "source": [
    "x_train=train_datagen.flow_from_directory(r\"C:\\Users\\MARKALA MANASWINI\\Downloads\\Objects\\Objects\\Train set\",target_size=(64,64),batch_size=32,class_mode=\"categorical\")\n",
    "x_test=test_datagen.flow_from_directory(r\"C:\\Users\\MARKALA MANASWINI\\Downloads\\Objects\\Objects\\Test set\",target_size=(64,64),batch_size=32,class_mode=\"categorical\")"
   ]
  },
  {
   "cell_type": "code",
   "execution_count": 4,
   "metadata": {},
   "outputs": [],
   "source": [
    "model=Sequential()"
   ]
  },
  {
   "cell_type": "code",
   "execution_count": 5,
   "metadata": {},
   "outputs": [
    {
     "name": "stdout",
     "output_type": "stream",
     "text": [
      "WARNING:tensorflow:From C:\\Users\\MARKALA MANASWINI\\Anaconda3\\lib\\site-packages\\tensorflow\\python\\ops\\init_ops.py:1251: calling VarianceScaling.__init__ (from tensorflow.python.ops.init_ops) with dtype is deprecated and will be removed in a future version.\n",
      "Instructions for updating:\n",
      "Call initializer instance with the dtype argument instead of passing it to the constructor\n"
     ]
    }
   ],
   "source": [
    "model.add(Convolution2D(32,(3,3),input_shape=(64,64,3),activation=\"relu\"))"
   ]
  },
  {
   "cell_type": "code",
   "execution_count": 6,
   "metadata": {},
   "outputs": [],
   "source": [
    "model.add(MaxPooling2D(2,2))"
   ]
  },
  {
   "cell_type": "code",
   "execution_count": 7,
   "metadata": {},
   "outputs": [],
   "source": [
    "model.add(Flatten())"
   ]
  },
  {
   "cell_type": "code",
   "execution_count": 8,
   "metadata": {},
   "outputs": [
    {
     "name": "stdout",
     "output_type": "stream",
     "text": [
      "WARNING:tensorflow:From C:\\Users\\MARKALA MANASWINI\\Anaconda3\\lib\\site-packages\\tensorflow\\python\\keras\\initializers.py:119: calling RandomUniform.__init__ (from tensorflow.python.ops.init_ops) with dtype is deprecated and will be removed in a future version.\n",
      "Instructions for updating:\n",
      "Call initializer instance with the dtype argument instead of passing it to the constructor\n"
     ]
    }
   ],
   "source": [
    "model.add(Dense(units=512,activation=\"relu\",kernel_initializer=\"random_uniform\"))"
   ]
  },
  {
   "cell_type": "code",
   "execution_count": 9,
   "metadata": {},
   "outputs": [],
   "source": [
    "model.add(Dense(units=5,activation=\"softmax\",kernel_initializer=\"random_uniform\"))"
   ]
  },
  {
   "cell_type": "code",
   "execution_count": 10,
   "metadata": {},
   "outputs": [],
   "source": [
    "model.compile(\"sgd\",loss=\"categorical_crossentropy\",metrics=[\"accuracy\"])"
   ]
  },
  {
   "cell_type": "code",
   "execution_count": 13,
   "metadata": {},
   "outputs": [
    {
     "name": "stdout",
     "output_type": "stream",
     "text": [
      "Epoch 1/70\n",
      "4/4 [==============================] - 3s 870ms/step - loss: 0.6561 - acc: 0.7810 - val_loss: 1.4354 - val_acc: 0.3556\n",
      "Epoch 2/70\n",
      "4/4 [==============================] - 2s 532ms/step - loss: 0.7627 - acc: 0.7143 - val_loss: 1.4418 - val_acc: 0.4222\n",
      "Epoch 3/70\n",
      "4/4 [==============================] - 3s 715ms/step - loss: 0.6505 - acc: 0.7810 - val_loss: 1.3663 - val_acc: 0.4222\n",
      "Epoch 4/70\n",
      "4/4 [==============================] - 3s 647ms/step - loss: 0.8441 - acc: 0.7048 - val_loss: 1.4457 - val_acc: 0.4667\n",
      "Epoch 5/70\n",
      "4/4 [==============================] - 2s 598ms/step - loss: 0.6428 - acc: 0.8000 - val_loss: 1.2786 - val_acc: 0.5111\n",
      "Epoch 6/70\n",
      "4/4 [==============================] - 3s 871ms/step - loss: 0.6472 - acc: 0.8000 - val_loss: 1.5376 - val_acc: 0.4000\n",
      "Epoch 7/70\n",
      "4/4 [==============================] - 2s 582ms/step - loss: 0.8145 - acc: 0.6476 - val_loss: 1.2392 - val_acc: 0.4444\n",
      "Epoch 8/70\n",
      "4/4 [==============================] - 3s 632ms/step - loss: 0.6482 - acc: 0.7905 - val_loss: 1.2107 - val_acc: 0.5111\n",
      "Epoch 9/70\n",
      "4/4 [==============================] - 2s 557ms/step - loss: 0.6528 - acc: 0.7905 - val_loss: 1.4476 - val_acc: 0.4222\n",
      "Epoch 10/70\n",
      "4/4 [==============================] - 2s 590ms/step - loss: 0.6820 - acc: 0.7619 - val_loss: 1.2772 - val_acc: 0.4444\n",
      "Epoch 11/70\n",
      "4/4 [==============================] - 3s 665ms/step - loss: 0.6389 - acc: 0.7905 - val_loss: 1.4962 - val_acc: 0.4444\n",
      "Epoch 12/70\n",
      "4/4 [==============================] - 3s 710ms/step - loss: 0.6480 - acc: 0.7905 - val_loss: 1.3646 - val_acc: 0.4000\n",
      "Epoch 13/70\n",
      "4/4 [==============================] - 3s 790ms/step - loss: 0.5836 - acc: 0.8000 - val_loss: 1.2687 - val_acc: 0.4667\n",
      "Epoch 14/70\n",
      "4/4 [==============================] - 2s 607ms/step - loss: 0.7143 - acc: 0.6857 - val_loss: 1.4656 - val_acc: 0.4000\n",
      "Epoch 15/70\n",
      "4/4 [==============================] - 3s 855ms/step - loss: 0.6286 - acc: 0.8095 - val_loss: 1.2673 - val_acc: 0.5111\n",
      "Epoch 16/70\n",
      "4/4 [==============================] - 4s 917ms/step - loss: 0.7550 - acc: 0.7143 - val_loss: 1.3180 - val_acc: 0.4889\n",
      "Epoch 17/70\n",
      "4/4 [==============================] - 3s 636ms/step - loss: 0.6189 - acc: 0.8190 - val_loss: 1.3725 - val_acc: 0.4444\n",
      "Epoch 18/70\n",
      "4/4 [==============================] - 3s 792ms/step - loss: 0.6763 - acc: 0.7238 - val_loss: 1.2515 - val_acc: 0.4444\n",
      "Epoch 19/70\n",
      "4/4 [==============================] - 2s 609ms/step - loss: 0.6247 - acc: 0.7905 - val_loss: 1.3952 - val_acc: 0.4667\n",
      "Epoch 20/70\n",
      "4/4 [==============================] - 3s 643ms/step - loss: 0.5449 - acc: 0.8286 - val_loss: 1.3539 - val_acc: 0.4667\n",
      "Epoch 21/70\n",
      "4/4 [==============================] - 2s 609ms/step - loss: 0.5570 - acc: 0.8190 - val_loss: 1.3266 - val_acc: 0.5111\n",
      "Epoch 22/70\n",
      "4/4 [==============================] - 3s 697ms/step - loss: 0.7594 - acc: 0.7238 - val_loss: 1.3040 - val_acc: 0.5111\n",
      "Epoch 23/70\n",
      "4/4 [==============================] - 2s 570ms/step - loss: 0.5485 - acc: 0.8381 - val_loss: 1.2848 - val_acc: 0.4889\n",
      "Epoch 24/70\n",
      "4/4 [==============================] - 3s 819ms/step - loss: 0.5700 - acc: 0.8000 - val_loss: 1.2928 - val_acc: 0.4667\n",
      "Epoch 25/70\n",
      "4/4 [==============================] - 3s 750ms/step - loss: 0.5818 - acc: 0.7524 - val_loss: 1.6676 - val_acc: 0.4000\n",
      "Epoch 26/70\n",
      "4/4 [==============================] - 2s 619ms/step - loss: 0.5951 - acc: 0.7143 - val_loss: 1.4225 - val_acc: 0.4000\n",
      "Epoch 27/70\n",
      "4/4 [==============================] - 3s 787ms/step - loss: 0.5719 - acc: 0.8190 - val_loss: 1.2782 - val_acc: 0.4667\n",
      "Epoch 28/70\n",
      "4/4 [==============================] - 3s 778ms/step - loss: 0.4841 - acc: 0.8571 - val_loss: 1.4389 - val_acc: 0.5333\n",
      "Epoch 29/70\n",
      "4/4 [==============================] - 3s 778ms/step - loss: 0.5175 - acc: 0.8286 - val_loss: 1.2975 - val_acc: 0.5111\n",
      "Epoch 30/70\n",
      "4/4 [==============================] - 3s 721ms/step - loss: 0.5260 - acc: 0.8286 - val_loss: 1.2717 - val_acc: 0.5556\n",
      "Epoch 31/70\n",
      "4/4 [==============================] - 4s 907ms/step - loss: 0.4867 - acc: 0.8286 - val_loss: 1.3229 - val_acc: 0.4222\n",
      "Epoch 32/70\n",
      "4/4 [==============================] - 4s 964ms/step - loss: 0.5607 - acc: 0.8095 - val_loss: 1.2494 - val_acc: 0.5556\n",
      "Epoch 33/70\n",
      "4/4 [==============================] - 3s 710ms/step - loss: 0.4959 - acc: 0.8381 - val_loss: 1.7267 - val_acc: 0.4667\n",
      "Epoch 34/70\n",
      "4/4 [==============================] - 3s 759ms/step - loss: 0.6201 - acc: 0.7524 - val_loss: 1.4042 - val_acc: 0.4000\n",
      "Epoch 35/70\n",
      "4/4 [==============================] - 3s 872ms/step - loss: 0.6378 - acc: 0.7048 - val_loss: 1.5936 - val_acc: 0.4000\n",
      "Epoch 36/70\n",
      "4/4 [==============================] - 3s 726ms/step - loss: 0.5605 - acc: 0.7619 - val_loss: 1.3533 - val_acc: 0.5333\n",
      "Epoch 37/70\n",
      "4/4 [==============================] - 3s 780ms/step - loss: 0.4852 - acc: 0.8476 - val_loss: 1.6423 - val_acc: 0.4000\n",
      "Epoch 38/70\n",
      "4/4 [==============================] - 3s 780ms/step - loss: 0.4775 - acc: 0.8095 - val_loss: 1.3729 - val_acc: 0.5111\n",
      "Epoch 39/70\n",
      "4/4 [==============================] - 4s 922ms/step - loss: 0.4797 - acc: 0.8381 - val_loss: 1.3863 - val_acc: 0.4667\n",
      "Epoch 40/70\n",
      "4/4 [==============================] - 3s 850ms/step - loss: 0.6187 - acc: 0.7714 - val_loss: 1.3378 - val_acc: 0.4889\n",
      "Epoch 41/70\n",
      "4/4 [==============================] - 3s 707ms/step - loss: 0.5237 - acc: 0.8190 - val_loss: 1.6952 - val_acc: 0.4444\n",
      "Epoch 42/70\n",
      "4/4 [==============================] - 3s 745ms/step - loss: 0.6381 - acc: 0.8000 - val_loss: 1.3117 - val_acc: 0.5333\n",
      "Epoch 43/70\n",
      "4/4 [==============================] - 4s 881ms/step - loss: 0.4852 - acc: 0.7810 - val_loss: 1.3578 - val_acc: 0.4667\n",
      "Epoch 44/70\n",
      "4/4 [==============================] - 3s 636ms/step - loss: 0.6180 - acc: 0.7619 - val_loss: 1.2523 - val_acc: 0.5778\n",
      "Epoch 45/70\n",
      "4/4 [==============================] - 3s 721ms/step - loss: 0.4849 - acc: 0.8286 - val_loss: 1.2343 - val_acc: 0.5333\n",
      "Epoch 46/70\n",
      "4/4 [==============================] - 3s 665ms/step - loss: 0.4940 - acc: 0.8286 - val_loss: 1.3123 - val_acc: 0.5778\n",
      "Epoch 47/70\n",
      "4/4 [==============================] - 3s 718ms/step - loss: 0.4877 - acc: 0.8381 - val_loss: 1.3841 - val_acc: 0.4444\n",
      "Epoch 48/70\n",
      "4/4 [==============================] - 3s 796ms/step - loss: 0.5145 - acc: 0.8286 - val_loss: 1.3232 - val_acc: 0.5333\n",
      "Epoch 49/70\n",
      "4/4 [==============================] - 3s 749ms/step - loss: 0.4141 - acc: 0.8476 - val_loss: 1.6320 - val_acc: 0.3556\n",
      "Epoch 50/70\n",
      "4/4 [==============================] - 3s 794ms/step - loss: 0.5657 - acc: 0.7714 - val_loss: 1.3034 - val_acc: 0.5778\n",
      "Epoch 51/70\n",
      "4/4 [==============================] - 3s 693ms/step - loss: 0.4898 - acc: 0.8286 - val_loss: 1.2865 - val_acc: 0.5778\n",
      "Epoch 52/70\n",
      "4/4 [==============================] - 3s 794ms/step - loss: 0.6182 - acc: 0.7905 - val_loss: 1.2408 - val_acc: 0.4667\n",
      "Epoch 53/70\n",
      "4/4 [==============================] - 2s 613ms/step - loss: 0.4173 - acc: 0.8857 - val_loss: 1.2915 - val_acc: 0.5556\n",
      "Epoch 54/70\n",
      "4/4 [==============================] - 3s 663ms/step - loss: 0.6567 - acc: 0.7905 - val_loss: 1.4358 - val_acc: 0.4000\n",
      "Epoch 55/70\n",
      "4/4 [==============================] - 3s 740ms/step - loss: 0.5867 - acc: 0.8190 - val_loss: 1.2710 - val_acc: 0.4889\n",
      "Epoch 56/70\n",
      "4/4 [==============================] - 2s 615ms/step - loss: 0.4562 - acc: 0.8476 - val_loss: 1.2790 - val_acc: 0.5111\n",
      "Epoch 57/70\n",
      "4/4 [==============================] - 2s 617ms/step - loss: 0.4555 - acc: 0.8286 - val_loss: 1.2637 - val_acc: 0.5111\n",
      "Epoch 58/70\n",
      "4/4 [==============================] - 3s 642ms/step - loss: 0.4361 - acc: 0.8286 - val_loss: 1.4259 - val_acc: 0.4222\n",
      "Epoch 59/70\n",
      "4/4 [==============================] - 3s 666ms/step - loss: 0.5501 - acc: 0.7619 - val_loss: 1.2687 - val_acc: 0.5556\n",
      "Epoch 60/70\n",
      "4/4 [==============================] - 3s 672ms/step - loss: 0.4483 - acc: 0.8857 - val_loss: 1.5995 - val_acc: 0.4444\n",
      "Epoch 61/70\n",
      "4/4 [==============================] - 3s 722ms/step - loss: 0.3864 - acc: 0.8381 - val_loss: 1.2541 - val_acc: 0.5333\n",
      "Epoch 62/70\n",
      "4/4 [==============================] - 2s 618ms/step - loss: 0.5686 - acc: 0.7905 - val_loss: 1.3622 - val_acc: 0.4889\n",
      "Epoch 63/70\n",
      "4/4 [==============================] - 3s 655ms/step - loss: 0.4224 - acc: 0.8381 - val_loss: 1.3203 - val_acc: 0.4889\n",
      "Epoch 64/70\n",
      "4/4 [==============================] - 3s 679ms/step - loss: 0.4970 - acc: 0.8286 - val_loss: 1.5265 - val_acc: 0.4000\n",
      "Epoch 65/70\n",
      "4/4 [==============================] - 3s 638ms/step - loss: 0.4947 - acc: 0.7619 - val_loss: 1.3878 - val_acc: 0.4889\n",
      "Epoch 66/70\n",
      "4/4 [==============================] - 3s 714ms/step - loss: 0.5869 - acc: 0.8000 - val_loss: 2.4926 - val_acc: 0.3556\n",
      "Epoch 67/70\n",
      "4/4 [==============================] - 3s 630ms/step - loss: 0.6100 - acc: 0.7619 - val_loss: 1.2364 - val_acc: 0.5556\n",
      "Epoch 68/70\n",
      "4/4 [==============================] - 3s 664ms/step - loss: 0.4757 - acc: 0.8667 - val_loss: 1.2349 - val_acc: 0.5333\n",
      "Epoch 69/70\n",
      "4/4 [==============================] - 3s 734ms/step - loss: 0.4226 - acc: 0.8476 - val_loss: 1.3121 - val_acc: 0.5333\n",
      "Epoch 70/70\n",
      "4/4 [==============================] - 3s 673ms/step - loss: 0.3870 - acc: 0.8762 - val_loss: 1.4324 - val_acc: 0.5111\n"
     ]
    },
    {
     "data": {
      "text/plain": [
       "<tensorflow.python.keras.callbacks.History at 0x18640064320>"
      ]
     },
     "execution_count": 13,
     "metadata": {},
     "output_type": "execute_result"
    }
   ],
   "source": [
    "model.fit_generator(x_train,steps_per_epoch=4,epochs=70,validation_data=x_test,validation_steps=20)"
   ]
  },
  {
   "cell_type": "code",
   "execution_count": 14,
   "metadata": {},
   "outputs": [],
   "source": [
    "model.save(\"obj.h5\")"
   ]
  },
  {
   "cell_type": "code",
   "execution_count": 15,
   "metadata": {},
   "outputs": [],
   "source": [
    "from tensorflow.keras.models import load_model\n",
    "from tensorflow.keras.preprocessing import image\n",
    "import cv2\n",
    "import numpy as np"
   ]
  },
  {
   "cell_type": "code",
   "execution_count": 16,
   "metadata": {},
   "outputs": [],
   "source": [
    "index=[\"Bluepen\",\"Compass\",\"Dice\",\"Pins\",\"Rubix\"]"
   ]
  },
  {
   "cell_type": "code",
   "execution_count": 17,
   "metadata": {},
   "outputs": [],
   "source": [
    "img=image.load_img(\"Rubix.jpg\",target_size=(64,64))"
   ]
  },
  {
   "cell_type": "code",
   "execution_count": 18,
   "metadata": {},
   "outputs": [
    {
     "data": {
      "text/plain": [
       "PIL.Image.Image"
      ]
     },
     "execution_count": 18,
     "metadata": {},
     "output_type": "execute_result"
    }
   ],
   "source": [
    "type(img)"
   ]
  },
  {
   "cell_type": "code",
   "execution_count": 19,
   "metadata": {},
   "outputs": [],
   "source": [
    "x=image.img_to_array(img)"
   ]
  },
  {
   "cell_type": "code",
   "execution_count": 20,
   "metadata": {},
   "outputs": [
    {
     "data": {
      "text/plain": [
       "numpy.ndarray"
      ]
     },
     "execution_count": 20,
     "metadata": {},
     "output_type": "execute_result"
    }
   ],
   "source": [
    "type(x)"
   ]
  },
  {
   "cell_type": "code",
   "execution_count": 21,
   "metadata": {},
   "outputs": [
    {
     "data": {
      "text/plain": [
       "(64, 64, 3)"
      ]
     },
     "execution_count": 21,
     "metadata": {},
     "output_type": "execute_result"
    }
   ],
   "source": [
    "x.shape"
   ]
  },
  {
   "cell_type": "code",
   "execution_count": 22,
   "metadata": {},
   "outputs": [],
   "source": [
    "x=np.expand_dims(x,axis=0)"
   ]
  },
  {
   "cell_type": "code",
   "execution_count": 23,
   "metadata": {},
   "outputs": [
    {
     "data": {
      "text/plain": [
       "(1, 64, 64, 3)"
      ]
     },
     "execution_count": 23,
     "metadata": {},
     "output_type": "execute_result"
    }
   ],
   "source": [
    "x.shape"
   ]
  },
  {
   "cell_type": "code",
   "execution_count": 24,
   "metadata": {},
   "outputs": [],
   "source": [
    "pred=model.predict_classes(x)"
   ]
  },
  {
   "cell_type": "code",
   "execution_count": 25,
   "metadata": {},
   "outputs": [
    {
     "data": {
      "text/plain": [
       "4"
      ]
     },
     "execution_count": 25,
     "metadata": {},
     "output_type": "execute_result"
    }
   ],
   "source": [
    "pred[0]\n"
   ]
  },
  {
   "cell_type": "code",
   "execution_count": 26,
   "metadata": {},
   "outputs": [
    {
     "name": "stdout",
     "output_type": "stream",
     "text": [
      "Rubix\n"
     ]
    }
   ],
   "source": [
    "print(index[pred[0]])"
   ]
  }
 ],
 "metadata": {
  "kernelspec": {
   "display_name": "Python 3",
   "language": "python",
   "name": "python3"
  },
  "language_info": {
   "codemirror_mode": {
    "name": "ipython",
    "version": 3
   },
   "file_extension": ".py",
   "mimetype": "text/x-python",
   "name": "python",
   "nbconvert_exporter": "python",
   "pygments_lexer": "ipython3",
   "version": "3.7.3"
  }
 },
 "nbformat": 4,
 "nbformat_minor": 2
}
